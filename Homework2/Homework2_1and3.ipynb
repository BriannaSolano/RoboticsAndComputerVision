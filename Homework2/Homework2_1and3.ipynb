{
  "nbformat": 4,
  "nbformat_minor": 0,
  "metadata": {
    "colab": {
      "name": "Homework2_1and3.ipynb",
      "provenance": [],
      "collapsed_sections": [],
      "authorship_tag": "ABX9TyNmAXgzzRzFM+sA5gPO7y/e",
      "include_colab_link": true
    },
    "kernelspec": {
      "name": "python3",
      "display_name": "Python 3"
    },
    "language_info": {
      "name": "python"
    }
  },
  "cells": [
    {
      "cell_type": "markdown",
      "metadata": {
        "id": "view-in-github",
        "colab_type": "text"
      },
      "source": [
        "<a href=\"https://colab.research.google.com/github/BriannaSolano/RoboticsAndComputerVision/blob/main/Homework2_1and3.ipynb\" target=\"_parent\"><img src=\"https://colab.research.google.com/assets/colab-badge.svg\" alt=\"Open In Colab\"/></a>"
      ]
    },
    {
      "cell_type": "code",
      "metadata": {
        "id": "Ke_Izw1EuKf5",
        "colab": {
          "base_uri": "https://localhost:8080/",
          "height": 521
        },
        "outputId": "a246defa-66f8-4712-eb2f-ff310952c200"
      },
      "source": [
        "#Problem 1\n",
        "x = [2,6,6,4,2,2]\n",
        "y = [2,2,6,8,6,2]\n",
        "import matplotlib.pyplot as plt\n",
        "import numpy as np\n",
        "plt.xlim(0, 20)\n",
        "plt.ylim(0, 20)\n",
        "plot1 = plt.figure(1)\n",
        "plt.plot(x,y)\n",
        "\n",
        "cTw = np.array([[0.707, 0.707,0,-3],\n",
        "       [-0.707, 0.707,0, -0.5],\n",
        "       [0,0,1,3]]) \n",
        "K = np.array([[-100,0,200],\n",
        "     [-0,-100,200],\n",
        "     [0,0,1]])\n",
        "worldvertex1 =np.array([[2],\n",
        "           [2],\n",
        "           [0],\n",
        "           [1]])\n",
        "worldvertex2 =np.array([[6],\n",
        "           [2],\n",
        "           [0],\n",
        "           [1]])\n",
        "worldvertex3 =np.array([[6],\n",
        "           [6],\n",
        "           [0],\n",
        "           [1]])\n",
        "worldvertex4 =np.array([[4],\n",
        "           [8],\n",
        "           [0],\n",
        "           [1]])\n",
        "worldvertex5 =np.array([[2],\n",
        "           [6],\n",
        "           [0],\n",
        "           [1]])\n",
        "M = np.matmul(K,cTw);\n",
        "\n",
        "homogenous1 = np.matmul(M,worldvertex1)\n",
        "homogenous2 = np.matmul(M,worldvertex2)\n",
        "homogenous3 = np.matmul(M,worldvertex3)\n",
        "homogenous4 = np.matmul(M,worldvertex4)\n",
        "homogenous5 = np.matmul(M,worldvertex5)\n",
        "\n",
        "pixel1 = homogenous1/homogenous1[2]\n",
        "pixel2 = homogenous2/homogenous2[2]\n",
        "pixel3 = homogenous3/homogenous3[2]\n",
        "pixel4 = homogenous4/homogenous4[2]\n",
        "pixel5 = homogenous5/homogenous5[2]\n",
        "\n",
        "pixel1 = np.delete(pixel1,2,0)\n",
        "pixel2 = np.delete(pixel2,2,0)\n",
        "pixel3 = np.delete(pixel3,2,0)\n",
        "pixel4 = np.delete(pixel4,2,0)\n",
        "pixel5 = np.delete(pixel5,2,0)\n",
        "\n",
        "camerax = [pixel1[0,0],pixel2[0,0],pixel3[0,0],pixel4[0,0],pixel5[0,0],pixel1[0,0]]\n",
        "cameray = [pixel1[1,0],pixel2[1,0],pixel3[1,0],pixel4[1,0],pixel5[1,0],pixel1[1,0]]\n",
        "\n",
        "plot2 = plt.figure(2)\n",
        "plt.xlim(0, 300)\n",
        "plt.ylim(0, 500)\n",
        "plt.plot(camerax,cameray)\n",
        "\n",
        "plt.show()"
      ],
      "execution_count": null,
      "outputs": [
        {
          "output_type": "display_data",
          "data": {
            "image/png": "[encoded data removed]",
            "text/plain": [
              "<Figure size 432x288 with 1 Axes>"
            ]
          },
          "metadata": {
            "needs_background": "light"
          }
        },
        {
          "output_type": "display_data",
          "data": {
            "image/png": "[encoded data removed]",
            "text/plain": [
              "<Figure size 432x288 with 1 Axes>"
            ]
          },
          "metadata": {
            "needs_background": "light"
          }
        }
      ]
    },
    {
      "cell_type": "code",
      "metadata": {
        "colab": {
          "base_uri": "https://localhost:8080/",
          "height": 521
        },
        "id": "8e3aF7CQDXxQ",
        "outputId": "adde158c-7d74-4844-d40a-150ba8d1ec6a"
      },
      "source": [
        "#Problem 3 Changing the camera postion to [4,-7,7]\n",
        "x = [2,6,6,4,2,2]\n",
        "y = [2,2,6,8,6,2]\n",
        "import matplotlib.pyplot as plt\n",
        "import numpy as np\n",
        "plt.xlim(0, 20)\n",
        "plt.ylim(0, 20)\n",
        "plot1 = plt.figure(1)\n",
        "plt.plot(x,y)\n",
        "\n",
        "cTw = np.array([[0.707, 0.707,0,4],\n",
        "       [-0.707, 0.707,0, -7],\n",
        "       [0,0,1,7]]) \n",
        "K = np.array([[-100,0,200],\n",
        "     [-0,-100,200],\n",
        "     [0,0,1]])\n",
        "worldvertex1 =np.array([[2],\n",
        "           [2],\n",
        "           [0],\n",
        "           [1]])\n",
        "worldvertex2 =np.array([[6],\n",
        "           [2],\n",
        "           [0],\n",
        "           [1]])\n",
        "worldvertex3 =np.array([[6],\n",
        "           [6],\n",
        "           [0],\n",
        "           [1]])\n",
        "worldvertex4 =np.array([[4],\n",
        "           [8],\n",
        "           [0],\n",
        "           [1]])\n",
        "worldvertex5 =np.array([[2],\n",
        "           [6],\n",
        "           [0],\n",
        "           [1]])\n",
        "M = np.matmul(K,cTw);\n",
        "\n",
        "homogenous1 = np.matmul(M,worldvertex1)\n",
        "homogenous2 = np.matmul(M,worldvertex2)\n",
        "homogenous3 = np.matmul(M,worldvertex3)\n",
        "homogenous4 = np.matmul(M,worldvertex4)\n",
        "homogenous5 = np.matmul(M,worldvertex5)\n",
        "\n",
        "pixel1 = homogenous1/homogenous1[2]\n",
        "pixel2 = homogenous2/homogenous2[2]\n",
        "pixel3 = homogenous3/homogenous3[2]\n",
        "pixel4 = homogenous4/homogenous4[2]\n",
        "pixel5 = homogenous5/homogenous5[2]\n",
        "\n",
        "pixel1 = np.delete(pixel1,2,0)\n",
        "pixel2 = np.delete(pixel2,2,0)\n",
        "pixel3 = np.delete(pixel3,2,0)\n",
        "pixel4 = np.delete(pixel4,2,0)\n",
        "pixel5 = np.delete(pixel5,2,0)\n",
        "\n",
        "camerax = [pixel1[0,0],pixel2[0,0],pixel3[0,0],pixel4[0,0],pixel5[0,0],pixel1[0,0]]\n",
        "cameray = [pixel1[1,0],pixel2[1,0],pixel3[1,0],pixel4[1,0],pixel5[1,0],pixel1[1,0]]\n",
        "\n",
        "plot2 = plt.figure(2)\n",
        "plt.xlim(0, 200)\n",
        "plt.ylim(0, 500)\n",
        "plt.plot(camerax,cameray)\n",
        "\n",
        "plt.show()"
      ],
      "execution_count": null,
      "outputs": [
        {
          "output_type": "display_data",
          "data": {
            "image/png": "[encoded data removed]",
            "text/plain": [
              "<Figure size 432x288 with 1 Axes>"
            ]
          },
          "metadata": {
            "needs_background": "light"
          }
        },
        {
          "output_type": "display_data",
          "data": {
            "image/png": "[encoded data removed]",
            "text/plain": [
              "<Figure size 432x288 with 1 Axes>"
            ]
          },
          "metadata": {
            "needs_background": "light"
          }
        }
      ]
    },
    {
      "cell_type": "code",
      "metadata": {
        "id": "iC2PHsH8F_z_"
      },
      "source": [
        "#Problem 3\n",
        "\n"
      ],
      "execution_count": null,
      "outputs": []
    }
  ]
}
